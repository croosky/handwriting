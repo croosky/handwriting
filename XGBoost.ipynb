{
 "cells": [
  {
   "cell_type": "code",
   "execution_count": null,
   "id": "3abea675-63c3-458f-9e37-9ca7138572f5",
   "metadata": {
    "colab": {
     "base_uri": "https://localhost:8080/"
    },
    "id": "3abea675-63c3-458f-9e37-9ca7138572f5",
    "outputId": "114fc5a8-78fa-4af6-b3db-a031ba48fe7e"
   },
   "outputs": [],
   "source": [
    "!pip install xgboost\n",
    "!pip install mne"
   ]
  },
  {
   "cell_type": "code",
   "execution_count": null,
   "id": "d966e9e5-7952-4528-ba71-3724f2998e1f",
   "metadata": {
    "id": "d966e9e5-7952-4528-ba71-3724f2998e1f"
   },
   "outputs": [],
   "source": [
    "import mne\n",
    "import pandas as pd\n",
    "import numpy as np\n",
    "from sklearn.model_selection import train_test_split\n",
    "from sklearn.preprocessing import StandardScaler\n",
    "from xgboost import XGBClassifier\n",
    "from sklearn.metrics import accuracy_score\n"
   ]
  },
  {
   "cell_type": "code",
   "execution_count": null,
   "id": "423833b6-7efe-4ef4-886f-cb5c2d0c671b",
   "metadata": {
    "id": "423833b6-7efe-4ef4-886f-cb5c2d0c671b"
   },
   "outputs": [],
   "source": [
    "from sklearn.decomposition import PCA\n",
    "import matplotlib.pyplot as plt\n",
    "from sklearn.model_selection import GridSearchCV\n",
    "from sklearn.model_selection import cross_val_score"
   ]
  },
  {
   "cell_type": "code",
   "execution_count": null,
   "id": "wP-3p9-aNKCo",
   "metadata": {
    "colab": {
     "base_uri": "https://localhost:8080/"
    },
    "id": "wP-3p9-aNKCo",
    "outputId": "8dbb29e4-ab85-4e13-ac98-97cf925f1275"
   },
   "outputs": [],
   "source": [
    "from google.colab import drive\n",
    "drive.mount('/content/gdrive', force_remount=True)"
   ]
  },
  {
   "cell_type": "markdown",
   "id": "bc463f7c-5b71-424e-89be-96bf4277b68f",
   "metadata": {
    "id": "bc463f7c-5b71-424e-89be-96bf4277b68f"
   },
   "source": [
    "# S104"
   ]
  },
  {
   "cell_type": "code",
   "execution_count": null,
   "id": "9wa7loSrEori",
   "metadata": {
    "id": "9wa7loSrEori"
   },
   "outputs": [],
   "source": [
    "sub='S104'"
   ]
  },
  {
   "cell_type": "code",
   "execution_count": null,
   "id": "GviHYrc5NQPw",
   "metadata": {
    "colab": {
     "base_uri": "https://localhost:8080/"
    },
    "id": "GviHYrc5NQPw",
    "outputId": "9b979e17-a218-40ab-e116-652e417b5eeb"
   },
   "outputs": [],
   "source": [
    "path='/content/gdrive/My Drive/WEEK1/'+sub+'/5_Files_for_model/'\n",
    "\n",
    "eeg=mne.read_epochs(path+'epochs_eeg_2-epo.fif', preload=True)\n",
    "\n",
    "digits_df = pd.read_csv(path+'Digits_trials_final.xlsx')\n",
    "labels = digits_df['Digit_text'].values"
   ]
  },
  {
   "cell_type": "code",
   "execution_count": null,
   "id": "df618475-6cdd-43aa-975e-45d19058305e",
   "metadata": {
    "colab": {
     "base_uri": "https://localhost:8080/",
     "height": 322
    },
    "id": "df618475-6cdd-43aa-975e-45d19058305e",
    "outputId": "8213a1dd-c0c3-4f83-ea6c-37fcbbddbe8d"
   },
   "outputs": [],
   "source": [
    "eeg.info"
   ]
  },
  {
   "cell_type": "markdown",
   "id": "MeJE7Mb-F3vE",
   "metadata": {
    "id": "MeJE7Mb-F3vE"
   },
   "source": [
    "Извлекаем признаки из ЭЭГ"
   ]
  },
  {
   "cell_type": "code",
   "execution_count": null,
   "id": "c52e7c22-7510-4e12-83d0-382f43ff8754",
   "metadata": {
    "id": "c52e7c22-7510-4e12-83d0-382f43ff8754"
   },
   "outputs": [],
   "source": [
    "n_epochs = len(eeg)\n",
    "n_channels = eeg.info['nchan']\n",
    "n_times = eeg.times.shape[0]"
   ]
  },
  {
   "cell_type": "code",
   "execution_count": null,
   "id": "e55c2a81-3fce-4169-9716-3d5774b3cf91",
   "metadata": {
    "colab": {
     "base_uri": "https://localhost:8080/"
    },
    "id": "e55c2a81-3fce-4169-9716-3d5774b3cf91",
    "outputId": "67b15eba-4252-40f7-8a5c-c124a6e012b9",
    "scrolled": true
   },
   "outputs": [],
   "source": [
    "gamma_features = np.zeros((n_epochs, n_channels * n_times))\n",
    "\n",
    "for i in range(n_epochs):\n",
    "    epoch_data = eeg[i].get_data()\n",
    "    filtered_data = mne.filter.filter_data(epoch_data, sfreq=eeg.info['sfreq'], l_freq=60, h_freq=120)  # Фильтруем по гамма-ритму\n",
    "    gamma_features[i, :] = filtered_data.flatten()  # Плоский массив для всех каналов"
   ]
  },
  {
   "cell_type": "code",
   "execution_count": null,
   "id": "7b3b5405-3e5c-49c5-a45e-4ea3af631af6",
   "metadata": {
    "id": "7b3b5405-3e5c-49c5-a45e-4ea3af631af6"
   },
   "outputs": [],
   "source": [
    "pca = PCA(n_components=40)\n",
    "gamma_features_pca = pca.fit_transform(gamma_features)"
   ]
  },
  {
   "cell_type": "code",
   "execution_count": null,
   "id": "7180d4ae-beb0-47d3-b25e-2598360ac1ef",
   "metadata": {
    "id": "7180d4ae-beb0-47d3-b25e-2598360ac1ef"
   },
   "outputs": [],
   "source": [
    "X = gamma_features_pca\n",
    "y = labels"
   ]
  },
  {
   "cell_type": "code",
   "execution_count": null,
   "id": "wrymUAoLFDSZ",
   "metadata": {
    "id": "wrymUAoLFDSZ"
   },
   "outputs": [],
   "source": [
    "model = XGBClassifier(use_label_encoder=False, eval_metric='mlogloss')"
   ]
  },
  {
   "cell_type": "markdown",
   "id": "w8PIwVvsNErM",
   "metadata": {
    "id": "w8PIwVvsNErM"
   },
   "source": [
    "### Кросс-валидация"
   ]
  },
  {
   "cell_type": "code",
   "execution_count": null,
   "id": "YlWj48TaFGC3",
   "metadata": {
    "colab": {
     "base_uri": "https://localhost:8080/"
    },
    "id": "YlWj48TaFGC3",
    "outputId": "501d7832-8c6a-4a78-ebe9-fb05ccc4d3a1"
   },
   "outputs": [],
   "source": [
    "scores = cross_val_score(model, X, y, cv=4, scoring='accuracy')"
   ]
  },
  {
   "cell_type": "code",
   "execution_count": null,
   "id": "BjhDoDRDFP1o",
   "metadata": {
    "colab": {
     "base_uri": "https://localhost:8080/"
    },
    "id": "BjhDoDRDFP1o",
    "outputId": "3e596c7a-e6b1-43d5-964c-730e3cffafc7"
   },
   "outputs": [],
   "source": [
    "print(\"Средняя accuracy: %.2f%%\" % (scores.mean() * 100))\n",
    "print(\"Accuracy по фолдам:\", scores)"
   ]
  },
  {
   "cell_type": "markdown",
   "id": "FS9WdmIpFRN1",
   "metadata": {
    "id": "FS9WdmIpFRN1"
   },
   "source": [
    "### Без кросс-валидации"
   ]
  },
  {
   "cell_type": "code",
   "execution_count": null,
   "id": "7b4f1341-c172-48ce-aec5-99408a133c08",
   "metadata": {
    "id": "7b4f1341-c172-48ce-aec5-99408a133c08"
   },
   "outputs": [],
   "source": [
    "X_train, X_test, y_train, y_test = train_test_split(X, y, test_size=0.2, random_state=42)"
   ]
  },
  {
   "cell_type": "code",
   "execution_count": null,
   "id": "0b509db4-7d26-45fc-8066-c87495e9ac32",
   "metadata": {
    "colab": {
     "base_uri": "https://localhost:8080/",
     "height": 326
    },
    "id": "0b509db4-7d26-45fc-8066-c87495e9ac32",
    "outputId": "aaf89c94-f32f-4c2f-cb57-d1ad1cfbe26d"
   },
   "outputs": [],
   "source": [
    "model.fit(X_train, y_train)"
   ]
  },
  {
   "cell_type": "code",
   "execution_count": null,
   "id": "1edf42c2-d8da-451d-916d-5014d67feee7",
   "metadata": {
    "id": "1edf42c2-d8da-451d-916d-5014d67feee7"
   },
   "outputs": [],
   "source": [
    "y_pred = model.predict(X_test)"
   ]
  },
  {
   "cell_type": "code",
   "execution_count": null,
   "id": "0542e887-2e98-4850-a632-7eb73e1008e6",
   "metadata": {
    "colab": {
     "base_uri": "https://localhost:8080/"
    },
    "id": "0542e887-2e98-4850-a632-7eb73e1008e6",
    "outputId": "87acdf71-6138-4e90-c201-03651035aa92"
   },
   "outputs": [],
   "source": [
    "accuracy = accuracy_score(y_test, y_pred)\n",
    "print(f'Accuracy: {accuracy:.2f}')"
   ]
  },
  {
   "cell_type": "code",
   "execution_count": null,
   "id": "d6c3a3a3-664d-4467-a885-a417645e1c11",
   "metadata": {
    "id": "d6c3a3a3-664d-4467-a885-a417645e1c11"
   },
   "outputs": [],
   "source": [
    "\n",
    "param_grid = {\n",
    "    'n_estimators': [100, 200, 500, 1000],\n",
    "    'learning_rate': [0.01, 0.1, 0.3],\n",
    "    'max_depth': [3, 5, 6, 10]\n",
    "}"
   ]
  },
  {
   "cell_type": "code",
   "execution_count": null,
   "id": "9b786f90-539d-4878-83f0-84f8fee9d5a2",
   "metadata": {
    "id": "9b786f90-539d-4878-83f0-84f8fee9d5a2"
   },
   "outputs": [],
   "source": [
    "grid_search = GridSearchCV(estimator=model, param_grid=param_grid, cv=4, scoring='accuracy')"
   ]
  },
  {
   "cell_type": "code",
   "execution_count": null,
   "id": "aacd3794-6e81-4fd7-bc6f-9f7857cf259c",
   "metadata": {
    "colab": {
     "base_uri": "https://localhost:8080/",
     "height": 1000
    },
    "id": "aacd3794-6e81-4fd7-bc6f-9f7857cf259c",
    "outputId": "e48b07c1-18ee-4452-ec82-01f2323f27aa"
   },
   "outputs": [],
   "source": [
    "grid_search.fit(X, y)"
   ]
  },
  {
   "cell_type": "code",
   "execution_count": null,
   "id": "0p--Ne-S6RuD",
   "metadata": {
    "colab": {
     "base_uri": "https://localhost:8080/"
    },
    "id": "0p--Ne-S6RuD",
    "outputId": "617b630c-1015-447f-903f-d4f671080692"
   },
   "outputs": [],
   "source": [
    "\n",
    "best_params = grid_search.best_params_\n",
    "print(\"Best parameters found: \", best_params)"
   ]
  },
  {
   "cell_type": "code",
   "execution_count": null,
   "id": "O4Ien53w6TSB",
   "metadata": {
    "colab": {
     "base_uri": "https://localhost:8080/"
    },
    "id": "O4Ien53w6TSB",
    "outputId": "32146022-3592-4f01-8160-ba4037118a9d"
   },
   "outputs": [],
   "source": [
    "best_index = grid_search.best_index_\n",
    "\n",
    "print(\"Точность по фолдам для лучших параметров:\")\n",
    "\n",
    "for i in range(grid_search.cv):  # grid_search.cv - количество фолдов\n",
    "    fold_accuracy = grid_search.cv_results_[f'split{i}_test_score'][best_index]\n",
    "    print(f\"Fold {i+1}: {fold_accuracy:.2f}\")\n",
    "\n",
    "mean_accuracy = grid_search.cv_results_['mean_test_score'][best_index]\n",
    "print(f\"\\nСредняя точность для лучших параметров: {mean_accuracy:.2f}\")"
   ]
  },
  {
   "cell_type": "markdown",
   "id": "4d2a1b9e-2410-4de6-842e-b70d45fb6ce6",
   "metadata": {
    "id": "4d2a1b9e-2410-4de6-842e-b70d45fb6ce6"
   },
   "source": [
    "# S101"
   ]
  },
  {
   "cell_type": "code",
   "execution_count": null,
   "id": "r6w-ndroO7lu",
   "metadata": {
    "id": "r6w-ndroO7lu"
   },
   "outputs": [],
   "source": [
    "sub = 'S101'"
   ]
  },
  {
   "cell_type": "code",
   "execution_count": null,
   "id": "Ia1W8nmeO5Lx",
   "metadata": {
    "colab": {
     "base_uri": "https://localhost:8080/"
    },
    "id": "Ia1W8nmeO5Lx",
    "outputId": "5a99b4f5-b6a8-4e3b-e521-dc9a2b101308"
   },
   "outputs": [],
   "source": [
    "path='/content/gdrive/My Drive/WEEK1/'+sub+'/5_Files_for_model/'\n",
    "\n",
    "eeg=mne.read_epochs(path+'epochs_eeg_2-epo.fif', preload=True)\n",
    "\n",
    "digits_df = pd.read_csv(path+'Digits_trials_final.xlsx')\n",
    "labels = digits_df['Digit_text'].values"
   ]
  },
  {
   "cell_type": "code",
   "execution_count": null,
   "id": "575146ff-c56e-4ee3-812b-b04da1a6405c",
   "metadata": {
    "colab": {
     "base_uri": "https://localhost:8080/"
    },
    "id": "575146ff-c56e-4ee3-812b-b04da1a6405c",
    "outputId": "4440a32c-aa37-4ff4-efe2-ad7ccd505d3d"
   },
   "outputs": [],
   "source": [
    "labels"
   ]
  },
  {
   "cell_type": "code",
   "execution_count": null,
   "id": "7d02d98e-d224-4e68-b559-b5fab714d2e3",
   "metadata": {
    "id": "7d02d98e-d224-4e68-b559-b5fab714d2e3"
   },
   "outputs": [],
   "source": [
    "n_epochs = len(eeg)\n",
    "n_channels = eeg.info['nchan']\n",
    "n_times = eeg.times.shape[0]"
   ]
  },
  {
   "cell_type": "code",
   "execution_count": null,
   "id": "fa82adb5-7283-4bf5-b75f-b3c32e429924",
   "metadata": {
    "colab": {
     "base_uri": "https://localhost:8080/"
    },
    "id": "fa82adb5-7283-4bf5-b75f-b3c32e429924",
    "outputId": "c823f028-be5f-40d8-f11e-67538fef6743"
   },
   "outputs": [],
   "source": [
    "gamma_features = np.zeros((n_epochs, n_channels * n_times))\n",
    "\n",
    "for i in range(n_epochs):\n",
    "    epoch_data = eeg[i].get_data()\n",
    "    filtered_data = mne.filter.filter_data(epoch_data, sfreq=eeg.info['sfreq'], l_freq=60, h_freq=120)\n",
    "    gamma_features[i, :] = filtered_data.flatten()"
   ]
  },
  {
   "cell_type": "code",
   "execution_count": null,
   "id": "88fd8764-04e4-416b-8d6a-3aa5778c3f60",
   "metadata": {
    "id": "88fd8764-04e4-416b-8d6a-3aa5778c3f60"
   },
   "outputs": [],
   "source": [
    "pca = PCA(n_components=30)\n",
    "gamma_features_pca = pca.fit_transform(gamma_features)"
   ]
  },
  {
   "cell_type": "code",
   "execution_count": null,
   "id": "6edd79fd-0829-4e62-a70a-7c497ffda811",
   "metadata": {
    "colab": {
     "base_uri": "https://localhost:8080/"
    },
    "id": "6edd79fd-0829-4e62-a70a-7c497ffda811",
    "outputId": "fc101610-9487-4933-832a-00f6acba4bbb"
   },
   "outputs": [],
   "source": [
    "gamma_features_pca"
   ]
  },
  {
   "cell_type": "code",
   "execution_count": null,
   "id": "39eab2e0-11d3-41d5-b961-894cfb20c7d2",
   "metadata": {
    "id": "39eab2e0-11d3-41d5-b961-894cfb20c7d2"
   },
   "outputs": [],
   "source": [
    "X = gamma_features_pca\n",
    "\n",
    "\n",
    "y = labels\n"
   ]
  },
  {
   "cell_type": "code",
   "execution_count": null,
   "id": "bZ9ezL7t_mkn",
   "metadata": {
    "id": "bZ9ezL7t_mkn"
   },
   "outputs": [],
   "source": [
    "#model = XGBClassifier(use_label_encoder=False, eval_metric='mlogloss', n_estimators = 300, learning_rate=0.3, max_depth=7)\n",
    "model = XGBClassifier(use_label_encoder=False, eval_metric='mlogloss')"
   ]
  },
  {
   "cell_type": "markdown",
   "id": "_3xzb4PLNYQN",
   "metadata": {
    "id": "_3xzb4PLNYQN"
   },
   "source": [
    "### Кросс-валидация"
   ]
  },
  {
   "cell_type": "code",
   "execution_count": null,
   "id": "a_AdEleN_pMc",
   "metadata": {
    "colab": {
     "base_uri": "https://localhost:8080/"
    },
    "id": "a_AdEleN_pMc",
    "outputId": "cc8fe3c6-cb7f-4d2f-e091-b992eec49b2b"
   },
   "outputs": [],
   "source": [
    "scores = cross_val_score(model, X, y, cv=4, scoring='accuracy')"
   ]
  },
  {
   "cell_type": "code",
   "execution_count": null,
   "id": "vO_2-JNv_wT4",
   "metadata": {
    "colab": {
     "base_uri": "https://localhost:8080/"
    },
    "id": "vO_2-JNv_wT4",
    "outputId": "1faa7955-750e-454e-acdb-f6cea7567baa"
   },
   "outputs": [],
   "source": [
    "print(\"Средняя accuracy: %.2f%%\" % (scores.mean() * 100))\n",
    "print(\"Accuracy по фолдам:\", scores)"
   ]
  },
  {
   "cell_type": "code",
   "execution_count": null,
   "id": "SeCVXSMj9r4O",
   "metadata": {
    "id": "SeCVXSMj9r4O"
   },
   "outputs": [],
   "source": []
  },
  {
   "cell_type": "markdown",
   "id": "pbPyGr7FFkM_",
   "metadata": {
    "id": "pbPyGr7FFkM_"
   },
   "source": [
    "### Без кросс-валидации"
   ]
  },
  {
   "cell_type": "code",
   "execution_count": null,
   "id": "c18f9743-e2e1-490e-a0c0-ae936c11e581",
   "metadata": {
    "id": "c18f9743-e2e1-490e-a0c0-ae936c11e581"
   },
   "outputs": [],
   "source": [
    "X_train, X_test, y_train, y_test = train_test_split(X, y, test_size=0.2, random_state=42)\n"
   ]
  },
  {
   "cell_type": "code",
   "execution_count": null,
   "id": "2LXlsnLePSN_",
   "metadata": {
    "id": "2LXlsnLePSN_"
   },
   "outputs": [],
   "source": [
    "#Пааметры для подбора\n",
    "param_grid = {\n",
    "    'n_estimators': [100, 200, 500],\n",
    "    'learning_rate': [0.01, 0.1, 0.3],\n",
    "    'max_depth': [3, 5, 10]\n",
    "}"
   ]
  },
  {
   "cell_type": "code",
   "execution_count": null,
   "id": "ec8117a1-c080-4bb0-a118-f5d9db88f45f",
   "metadata": {
    "colab": {
     "base_uri": "https://localhost:8080/",
     "height": 326
    },
    "id": "ec8117a1-c080-4bb0-a118-f5d9db88f45f",
    "outputId": "8ade1991-c27c-4fb1-8e17-c91bf72139d8"
   },
   "outputs": [],
   "source": [
    "model.fit(X_train, y_train)"
   ]
  },
  {
   "cell_type": "code",
   "execution_count": null,
   "id": "Qh7-bkO98Y0v",
   "metadata": {
    "id": "Qh7-bkO98Y0v"
   },
   "outputs": [],
   "source": [
    "y_pred = model.predict(X_test)"
   ]
  },
  {
   "cell_type": "code",
   "execution_count": null,
   "id": "-_F2B4SSPuNt",
   "metadata": {
    "id": "-_F2B4SSPuNt"
   },
   "outputs": [],
   "source": [
    "grid_search = GridSearchCV(estimator=model, param_grid=param_grid, cv=4, scoring='accuracy')"
   ]
  },
  {
   "cell_type": "code",
   "execution_count": null,
   "id": "ZKH3dPr7PycS",
   "metadata": {
    "colab": {
     "base_uri": "https://localhost:8080/",
     "height": 1000
    },
    "id": "ZKH3dPr7PycS",
    "outputId": "648973c0-09b2-482f-de83-9aaa6e1efe0c"
   },
   "outputs": [],
   "source": [
    "grid_search.fit(X, y)"
   ]
  },
  {
   "cell_type": "code",
   "execution_count": null,
   "id": "FKXqoR1mP2ud",
   "metadata": {
    "colab": {
     "base_uri": "https://localhost:8080/"
    },
    "id": "FKXqoR1mP2ud",
    "outputId": "d4f54cb6-f239-48f6-8a5f-9b97713b5b75"
   },
   "outputs": [],
   "source": [
    "#Лучшие параметры\n",
    "best_params = grid_search.best_params_\n",
    "print(\"Best parameters found: \", best_params)"
   ]
  },
  {
   "cell_type": "code",
   "execution_count": null,
   "id": "QKhrC_JR8W-w",
   "metadata": {
    "colab": {
     "base_uri": "https://localhost:8080/"
    },
    "id": "QKhrC_JR8W-w",
    "outputId": "5b3747cd-74f6-4455-a46d-6da8ff226100"
   },
   "outputs": [],
   "source": [
    "best_index = grid_search.best_index_\n",
    "\n",
    "print(\"Точность по фолдам для лучших параметров:\")\n",
    "\n",
    "for i in range(grid_search.cv):  # grid_search.cv - количество фолдов\n",
    "    fold_accuracy = grid_search.cv_results_[f'split{i}_test_score'][best_index]\n",
    "    print(f\"Fold {i+1}: {fold_accuracy:.2f}\")\n",
    "\n",
    "mean_accuracy = grid_search.cv_results_['mean_test_score'][best_index]\n",
    "print(f\"\\nСредняя точность для лучших параметров: {mean_accuracy:.2f}\")"
   ]
  },
  {
   "cell_type": "code",
   "execution_count": null,
   "id": "7d4bb848-dde3-485c-986c-6239b4f8cd6d",
   "metadata": {
    "colab": {
     "base_uri": "https://localhost:8080/"
    },
    "id": "7d4bb848-dde3-485c-986c-6239b4f8cd6d",
    "outputId": "d52640a7-5aeb-47f2-f556-29cc81869ced"
   },
   "outputs": [],
   "source": [
    "accuracy = accuracy_score(y_test, y_pred)\n",
    "print(f'Accuracy: {accuracy:.2f}')"
   ]
  },
  {
   "cell_type": "markdown",
   "id": "IAzpMuLX5rzH",
   "metadata": {
    "id": "IAzpMuLX5rzH"
   },
   "source": [
    "# S105"
   ]
  },
  {
   "cell_type": "code",
   "execution_count": null,
   "id": "ir-lenQo5uMf",
   "metadata": {
    "id": "ir-lenQo5uMf"
   },
   "outputs": [],
   "source": [
    "sub='S105'"
   ]
  },
  {
   "cell_type": "code",
   "execution_count": null,
   "id": "iy-Ik9xT54Uw",
   "metadata": {
    "colab": {
     "base_uri": "https://localhost:8080/"
    },
    "id": "iy-Ik9xT54Uw",
    "outputId": "89431243-d218-451f-c9ac-30684efa4e77"
   },
   "outputs": [],
   "source": [
    "path='/content/gdrive/My Drive/WEEK1/'+sub+'/5_Files_for_model/'\n",
    "\n",
    "eeg=mne.read_epochs(path+'epochs_eeg_2-epo.fif', preload=True)\n",
    "\n",
    "digits_df = pd.read_csv(path+'Digits_trials_final.xlsx')\n",
    "labels = digits_df['Digit_text'].values"
   ]
  },
  {
   "cell_type": "code",
   "execution_count": null,
   "id": "-N37oOL76Ldo",
   "metadata": {
    "id": "-N37oOL76Ldo"
   },
   "outputs": [],
   "source": [
    "n_epochs = len(eeg)\n",
    "n_channels = eeg.info['nchan']\n",
    "n_times = eeg.times.shape[0]"
   ]
  },
  {
   "cell_type": "code",
   "execution_count": null,
   "id": "T9q8At-m6Pei",
   "metadata": {
    "colab": {
     "base_uri": "https://localhost:8080/"
    },
    "id": "T9q8At-m6Pei",
    "outputId": "2e7dcc17-812f-4c61-d4e3-22aaeff5795f"
   },
   "outputs": [],
   "source": [
    "gamma_features = np.zeros((n_epochs, n_channels * n_times))\n",
    "\n",
    "for i in range(n_epochs):\n",
    "    epoch_data = eeg[i].get_data()\n",
    "    filtered_data = mne.filter.filter_data(epoch_data, sfreq=eeg.info['sfreq'], l_freq=60, h_freq=120)  # Фильтруем по гамма-ритму\n",
    "    gamma_features[i, :] = filtered_data.flatten()  # Плоский массив для всех каналов"
   ]
  },
  {
   "cell_type": "code",
   "execution_count": null,
   "id": "ITIV1yak6VTF",
   "metadata": {
    "id": "ITIV1yak6VTF"
   },
   "outputs": [],
   "source": [
    "pca = PCA(n_components=40)\n",
    "gamma_features_pca = pca.fit_transform(gamma_features)"
   ]
  },
  {
   "cell_type": "code",
   "execution_count": null,
   "id": "80n64WQt6jqo",
   "metadata": {
    "id": "80n64WQt6jqo"
   },
   "outputs": [],
   "source": [
    "X = gamma_features_pca\n",
    "\n",
    "y = labels"
   ]
  },
  {
   "cell_type": "code",
   "execution_count": null,
   "id": "FyX_pcIu6mAl",
   "metadata": {
    "id": "FyX_pcIu6mAl"
   },
   "outputs": [],
   "source": [
    "model = XGBClassifier(use_label_encoder=False, eval_metric='mlogloss')"
   ]
  },
  {
   "cell_type": "code",
   "execution_count": null,
   "id": "HnfUAUPt6qj1",
   "metadata": {
    "id": "HnfUAUPt6qj1"
   },
   "outputs": [],
   "source": [
    "X_train, X_test, y_train, y_test = train_test_split(X, y, test_size=0.2, random_state=42)"
   ]
  },
  {
   "cell_type": "code",
   "execution_count": null,
   "id": "dTDTMFJA6tbI",
   "metadata": {
    "colab": {
     "base_uri": "https://localhost:8080/",
     "height": 326
    },
    "id": "dTDTMFJA6tbI",
    "outputId": "879dc5f2-2ac4-417c-c98e-c756c3920c98"
   },
   "outputs": [],
   "source": [
    "model.fit(X_train, y_train)"
   ]
  },
  {
   "cell_type": "code",
   "execution_count": null,
   "id": "wFIqyt1J6vhz",
   "metadata": {
    "id": "wFIqyt1J6vhz"
   },
   "outputs": [],
   "source": [
    "y_pred = model.predict(X_test)"
   ]
  },
  {
   "cell_type": "code",
   "execution_count": null,
   "id": "FzQp7bFO6xQ4",
   "metadata": {
    "colab": {
     "base_uri": "https://localhost:8080/"
    },
    "id": "FzQp7bFO6xQ4",
    "outputId": "8751d1d6-ce3e-4f41-bdc5-45eacebf9d0a"
   },
   "outputs": [],
   "source": [
    "accuracy = accuracy_score(y_test, y_pred)\n",
    "print(f'Accuracy: {accuracy:.2f}')"
   ]
  },
  {
   "cell_type": "markdown",
   "id": "vVWyJ4Al9f_L",
   "metadata": {
    "id": "vVWyJ4Al9f_L"
   },
   "source": [
    "### CV\n"
   ]
  },
  {
   "cell_type": "code",
   "execution_count": null,
   "id": "wRaavLt-9hGO",
   "metadata": {
    "colab": {
     "base_uri": "https://localhost:8080/"
    },
    "id": "wRaavLt-9hGO",
    "outputId": "2f201c82-5192-48c2-9b18-6103ee035a2e"
   },
   "outputs": [],
   "source": [
    "scores = cross_val_score(model, X, y, cv=4, scoring='accuracy')"
   ]
  },
  {
   "cell_type": "code",
   "execution_count": null,
   "id": "9cbV9qt19u2t",
   "metadata": {
    "colab": {
     "base_uri": "https://localhost:8080/"
    },
    "id": "9cbV9qt19u2t",
    "outputId": "a22b5227-e88e-4dc8-f7c1-2f3eb6764952"
   },
   "outputs": [],
   "source": [
    "print(\"Средняя accuracy: %.2f%%\" % (scores.mean() * 100))\n",
    "print(\"Accuracy по фолдам:\", scores)"
   ]
  },
  {
   "cell_type": "markdown",
   "id": "HAN6SxOBCFY3",
   "metadata": {
    "id": "HAN6SxOBCFY3"
   },
   "source": [
    "### сетка параметров"
   ]
  },
  {
   "cell_type": "code",
   "execution_count": null,
   "id": "0FtAhfVqDO2N",
   "metadata": {
    "id": "0FtAhfVqDO2N"
   },
   "outputs": [],
   "source": [
    "#Пааметры для подбора\n",
    "param_grid = {\n",
    "    'n_estimators': [100, 200, 500],\n",
    "    'learning_rate': [0.01, 0.1, 0.3],\n",
    "    'max_depth': [3, 5, 10]\n",
    "}"
   ]
  },
  {
   "cell_type": "code",
   "execution_count": null,
   "id": "GqYdspnvBsZL",
   "metadata": {
    "id": "GqYdspnvBsZL"
   },
   "outputs": [],
   "source": [
    "grid_search = GridSearchCV(estimator=model, param_grid=param_grid, cv=4, scoring='accuracy')"
   ]
  },
  {
   "cell_type": "code",
   "execution_count": null,
   "id": "lNF2zfE7BxDI",
   "metadata": {
    "colab": {
     "base_uri": "https://localhost:8080/",
     "height": 1000
    },
    "id": "lNF2zfE7BxDI",
    "outputId": "c0013ad8-96a1-480a-96f4-999cf97c4d6e"
   },
   "outputs": [],
   "source": [
    "grid_search.fit(X, y)"
   ]
  },
  {
   "cell_type": "code",
   "execution_count": null,
   "id": "6dltShjjB14g",
   "metadata": {
    "colab": {
     "base_uri": "https://localhost:8080/"
    },
    "id": "6dltShjjB14g",
    "outputId": "f227f25f-cb13-4576-f855-a35912995d6f"
   },
   "outputs": [],
   "source": [
    "#Лучшие параметры\n",
    "best_params = grid_search.best_params_\n",
    "print(\"Best parameters found: \", best_params)"
   ]
  },
  {
   "cell_type": "code",
   "execution_count": null,
   "id": "Ak4RtRFTB9ft",
   "metadata": {
    "colab": {
     "base_uri": "https://localhost:8080/"
    },
    "id": "Ak4RtRFTB9ft",
    "outputId": "8f6ad523-e39e-493f-c637-af7716d0dc5f"
   },
   "outputs": [],
   "source": [
    "best_index = grid_search.best_index_\n",
    "\n",
    "print(\"Точность по фолдам для лучших параметров:\")\n",
    "\n",
    "for i in range(grid_search.cv):  # grid_search.cv - количество фолдов\n",
    "    fold_accuracy = grid_search.cv_results_[f'split{i}_test_score'][best_index]\n",
    "    print(f\"Fold {i+1}: {fold_accuracy:.2f}\")\n",
    "\n",
    "mean_accuracy = grid_search.cv_results_['mean_test_score'][best_index]\n",
    "print(f\"\\nСредняя точность для лучших параметров: {mean_accuracy:.2f}\")"
   ]
  }
 ],
 "metadata": {
  "colab": {
   "provenance": []
  },
  "kernelspec": {
   "display_name": "Python 3 (ipykernel)",
   "language": "python",
   "name": "python3"
  },
  "language_info": {
   "codemirror_mode": {
    "name": "ipython",
    "version": 3
   },
   "file_extension": ".py",
   "mimetype": "text/x-python",
   "name": "python",
   "nbconvert_exporter": "python",
   "pygments_lexer": "ipython3",
   "version": "3.12.4"
  }
 },
 "nbformat": 4,
 "nbformat_minor": 5
}
